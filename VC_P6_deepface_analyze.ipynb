{
 "cells": [
  {
   "cell_type": "markdown",
   "id": "c6fd4a50",
   "metadata": {},
   "source": [
    "# Process image folder"
   ]
  },
  {
   "cell_type": "code",
   "execution_count": 1,
   "id": "frank-length",
   "metadata": {},
   "outputs": [
    {
     "name": "stdout",
     "output_type": "stream",
     "text": [
      "WARNING:tensorflow:From c:\\Users\\miica\\.conda\\envs\\VC_P6\\Lib\\site-packages\\keras\\src\\losses.py:2976: The name tf.losses.sparse_softmax_cross_entropy is deprecated. Please use tf.compat.v1.losses.sparse_softmax_cross_entropy instead.\n",
      "\n",
      "C:/Users/miica/.conda/envs/VC_P6/P6/Rick_y_Morty/\n"
     ]
    },
    {
     "name": "stderr",
     "output_type": "stream",
     "text": [
      "Action: emotion: 100%|██████████| 4/4 [00:01<00:00,  3.80it/s]\n"
     ]
    },
    {
     "name": "stdout",
     "output_type": "stream",
     "text": [
      "C:/Users/miica/.conda/envs/VC_P6/P6/Rick_y_Morty/Beth_Smith.jpg\n",
      "Beth_Smith.jpg\n",
      "[{'age': 39, 'region': {'x': 0, 'y': 0, 'w': 573, 'h': 720}, 'gender': {'Woman': 12.425903975963593, 'Man': 87.57409453392029}, 'dominant_gender': 'Man', 'race': {'asian': 5.210886833720615, 'indian': 0.0031286412241012217, 'black': 0.0005975411469630277, 'white': 94.41564645860473, 'middle eastern': 0.2768156516516597, 'latino hispanic': 0.09292273870395057}, 'dominant_race': 'white', 'emotion': {'angry': 5.93997100395427e-06, 'disgust': 3.6181041988120593e-13, 'fear': 99.99890327453613, 'happy': 8.133919493502617e-06, 'sad': 0.000925556287256768, 'surprise': 8.332278298439633e-05, 'neutral': 7.659433549633832e-05}, 'dominant_emotion': 'fear'}]\n"
     ]
    },
    {
     "name": "stderr",
     "output_type": "stream",
     "text": [
      "Action: emotion: 100%|██████████| 4/4 [00:00<00:00,  5.91it/s]\n"
     ]
    },
    {
     "name": "stdout",
     "output_type": "stream",
     "text": [
      "C:/Users/miica/.conda/envs/VC_P6/P6/Rick_y_Morty/Evil_Morty.jpg\n",
      "Evil_Morty.jpg\n",
      "[{'age': 27, 'region': {'x': 0, 'y': 0, 'w': 838, 'h': 1118}, 'gender': {'Woman': 13.039778172969818, 'Man': 86.96022033691406}, 'dominant_gender': 'Man', 'race': {'asian': 0.05063759163022041, 'indian': 0.11579046258702874, 'black': 0.015709242143202573, 'white': 90.89342951774597, 'middle eastern': 6.148728355765343, 'latino hispanic': 2.7757078409194946}, 'dominant_race': 'white', 'emotion': {'angry': 88.41409545112793, 'disgust': 0.007660523446320558, 'fear': 2.645010816456177, 'happy': 8.931693009339929, 'sad': 0.001544511180729541, 'surprise': 5.660766584656067e-11, 'neutral': 1.2415884246436604e-07}, 'dominant_emotion': 'angry'}]\n"
     ]
    },
    {
     "name": "stderr",
     "output_type": "stream",
     "text": [
      "Action: emotion: 100%|██████████| 4/4 [00:00<00:00,  6.04it/s]\n"
     ]
    },
    {
     "name": "stdout",
     "output_type": "stream",
     "text": [
      "C:/Users/miica/.conda/envs/VC_P6/P6/Rick_y_Morty/Evil_Tamantha.jpg\n",
      "Evil_Tamantha.jpg\n",
      "[{'age': 34, 'region': {'x': 396, 'y': 131, 'w': 73, 'h': 73}, 'gender': {'Woman': 9.181040525436401, 'Man': 90.81896543502808}, 'dominant_gender': 'Man', 'race': {'asian': 1.2875625863671303, 'indian': 0.3506144508719444, 'black': 0.020491894974838942, 'white': 83.91127586364746, 'middle eastern': 9.488869458436966, 'latino hispanic': 4.941188916563988}, 'dominant_race': 'white', 'emotion': {'angry': 1.877097561705403, 'disgust': 2.122231998055251e-08, 'fear': 69.57898502600372, 'happy': 0.0002547482532551266, 'sad': 24.82216062281601, 'surprise': 0.005865835583929946, 'neutral': 3.7156290601934123}, 'dominant_emotion': 'fear'}]\n"
     ]
    },
    {
     "name": "stderr",
     "output_type": "stream",
     "text": [
      "Action: emotion: 100%|██████████| 4/4 [00:00<00:00,  6.01it/s]\n"
     ]
    },
    {
     "name": "stdout",
     "output_type": "stream",
     "text": [
      "C:/Users/miica/.conda/envs/VC_P6/P6/Rick_y_Morty/Gearhead.jpg\n",
      "Gearhead.jpg\n",
      "[{'age': 32, 'region': {'x': 0, 'y': 0, 'w': 696, 'h': 1352}, 'gender': {'Woman': 5.7067446410655975, 'Man': 94.29325461387634}, 'dominant_gender': 'Man', 'race': {'asian': 0.0002464542764726003, 'indian': 0.0009788377353304716, 'black': 0.00010989524352754473, 'white': 99.07459031646367, 'middle eastern': 0.35070479392054155, 'latino hispanic': 0.5733647631567999}, 'dominant_race': 'white', 'emotion': {'angry': 3.1798585098385956e-06, 'disgust': 9.164701739378037e-30, 'fear': 67.00106263160706, 'happy': 1.3472875580191612, 'sad': 5.0059571288577076e-11, 'surprise': 1.4187846589849146e-11, 'neutral': 31.65164887905121}, 'dominant_emotion': 'fear'}]\n"
     ]
    },
    {
     "name": "stderr",
     "output_type": "stream",
     "text": [
      "Action: emotion: 100%|██████████| 4/4 [00:00<00:00,  6.07it/s]\n"
     ]
    },
    {
     "name": "stdout",
     "output_type": "stream",
     "text": [
      "C:/Users/miica/.conda/envs/VC_P6/P6/Rick_y_Morty/Jerry_Smith.jpg\n",
      "Jerry_Smith.jpg\n",
      "[{'age': 37, 'region': {'x': 0, 'y': 0, 'w': 688, 'h': 1012}, 'gender': {'Woman': 13.15779834985733, 'Man': 86.84220314025879}, 'dominant_gender': 'Man', 'race': {'asian': 7.787303626537323, 'indian': 0.06917782593518496, 'black': 0.05079372203908861, 'white': 88.868248462677, 'middle eastern': 1.6373828053474426, 'latino hispanic': 1.5870928764343262}, 'dominant_race': 'white', 'emotion': {'angry': 2.241646590572799e-08, 'disgust': 8.991091681262052e-14, 'fear': 0.015828176401555538, 'happy': 1.3621705326205547e-09, 'sad': 99.98160004615784, 'surprise': 7.805745685047993e-17, 'neutral': 0.0025696745069581084}, 'dominant_emotion': 'sad'}]\n"
     ]
    },
    {
     "name": "stderr",
     "output_type": "stream",
     "text": [
      "Action: emotion: 100%|██████████| 4/4 [00:00<00:00,  6.07it/s]\n"
     ]
    },
    {
     "name": "stdout",
     "output_type": "stream",
     "text": [
      "C:/Users/miica/.conda/envs/VC_P6/P6/Rick_y_Morty/Jessica.jpg\n",
      "Jessica.jpg\n",
      "[{'age': 32, 'region': {'x': 0, 'y': 0, 'w': 466, 'h': 620}, 'gender': {'Woman': 11.963740736246109, 'Man': 88.03625702857971}, 'dominant_gender': 'Man', 'race': {'asian': 58.74388076255573, 'indian': 0.5443097599851656, 'black': 0.93093046801039, 'white': 32.32571762664037, 'middle eastern': 3.4550397315692423, 'latino hispanic': 4.000129148387161}, 'dominant_race': 'asian', 'emotion': {'angry': 1.7800624618757865e-05, 'disgust': 1.5317112772639546e-20, 'fear': 7.662649181838788e-05, 'happy': 2.850057301273523e-07, 'sad': 61.55638098716736, 'surprise': 3.4468133051606932e-15, 'neutral': 38.44352662563324}, 'dominant_emotion': 'sad'}]\n"
     ]
    },
    {
     "name": "stderr",
     "output_type": "stream",
     "text": [
      "Action: emotion: 100%|██████████| 4/4 [00:00<00:00,  6.04it/s]\n"
     ]
    },
    {
     "name": "stdout",
     "output_type": "stream",
     "text": [
      "C:/Users/miica/.conda/envs/VC_P6/P6/Rick_y_Morty/Meeseeks.jpg\n",
      "Meeseeks.jpg\n",
      "[{'age': 31, 'region': {'x': 0, 'y': 0, 'w': 488, 'h': 1028}, 'gender': {'Woman': 14.59135115146637, 'Man': 85.40865182876587}, 'dominant_gender': 'Man', 'race': {'asian': 0.5494945216923952, 'indian': 0.30755840707570314, 'black': 0.09032936068251729, 'white': 87.52129673957825, 'middle eastern': 6.760913133621216, 'latino hispanic': 4.770407825708389}, 'dominant_race': 'white', 'emotion': {'angry': 5.0082470390217725e-09, 'disgust': 2.0308385903346332e-16, 'fear': 99.96757507710754, 'happy': 0.0007921713369510312, 'sad': 5.219457594535246e-05, 'surprise': 0.00013992205973421349, 'neutral': 0.031437974284346484}, 'dominant_emotion': 'fear'}]\n"
     ]
    },
    {
     "name": "stderr",
     "output_type": "stream",
     "text": [
      "Action: emotion: 100%|██████████| 4/4 [00:00<00:00,  5.83it/s]\n"
     ]
    },
    {
     "name": "stdout",
     "output_type": "stream",
     "text": [
      "C:/Users/miica/.conda/envs/VC_P6/P6/Rick_y_Morty/Morty.jpg\n",
      "Morty.jpg\n",
      "[{'age': 34, 'region': {'x': 0, 'y': 0, 'w': 400, 'h': 500}, 'gender': {'Woman': 12.006724625825882, 'Man': 87.9932701587677}, 'dominant_gender': 'Man', 'race': {'asian': 9.186575561761856, 'indian': 0.13885870575904846, 'black': 0.07112284656614065, 'white': 84.26172137260437, 'middle eastern': 3.9794817566871643, 'latino hispanic': 2.3622389882802963}, 'dominant_race': 'white', 'emotion': {'angry': 0.00011530633845410885, 'disgust': 8.323911677961858e-08, 'fear': 0.14931045555347733, 'happy': 6.999395698380983, 'sad': 78.3926512726961, 'surprise': 3.637957057131364e-06, 'neutral': 14.458518986878516}, 'dominant_emotion': 'sad'}]\n"
     ]
    },
    {
     "name": "stderr",
     "output_type": "stream",
     "text": [
      "Action: emotion: 100%|██████████| 4/4 [00:00<00:00,  5.97it/s]\n"
     ]
    },
    {
     "name": "stdout",
     "output_type": "stream",
     "text": [
      "C:/Users/miica/.conda/envs/VC_P6/P6/Rick_y_Morty/Mr._Goldenfold.jpg\n",
      "Mr._Goldenfold.jpg\n",
      "[{'age': 33, 'region': {'x': 0, 'y': 0, 'w': 993, 'h': 1001}, 'gender': {'Woman': 3.9913758635520935, 'Man': 96.00862860679626}, 'dominant_gender': 'Man', 'race': {'asian': 7.919240742921829, 'indian': 5.993899703025818, 'black': 8.337589353322983, 'white': 41.0926878452301, 'middle eastern': 18.891164660453796, 'latino hispanic': 17.76541918516159}, 'dominant_race': 'white', 'emotion': {'angry': 81.97845816612244, 'disgust': 0.02744898956734687, 'fear': 3.879477083683014, 'happy': 13.522061705589294, 'sad': 0.20389382261782885, 'surprise': 0.062369456281885505, 'neutral': 0.326287467032671}, 'dominant_emotion': 'angry'}]\n"
     ]
    },
    {
     "name": "stderr",
     "output_type": "stream",
     "text": [
      "Action: emotion: 100%|██████████| 4/4 [00:00<00:00,  6.02it/s]\n"
     ]
    },
    {
     "name": "stdout",
     "output_type": "stream",
     "text": [
      "C:/Users/miica/.conda/envs/VC_P6/P6/Rick_y_Morty/Mr_poopy_butthole.jpg\n",
      "Mr_poopy_butthole.jpg\n",
      "[{'age': 22, 'region': {'x': 0, 'y': 0, 'w': 300, 'h': 876}, 'gender': {'Woman': 2.0797304809093475, 'Man': 97.92026877403259}, 'dominant_gender': 'Man', 'race': {'asian': 6.113272919221303e-07, 'indian': 3.2870244042979323e-07, 'black': 9.390046775830439e-05, 'white': 99.9946773049043, 'middle eastern': 0.001342306302803432, 'latino hispanic': 0.0038872609864079423}, 'dominant_race': 'white', 'emotion': {'angry': 1.2477005254564926e-20, 'disgust': 5.060403997954097e-32, 'fear': 1.750638939368443e-08, 'happy': 79.39884066581726, 'sad': 2.418430122830273e-07, 'surprise': 9.086445742956463e-19, 'neutral': 20.60115933418274}, 'dominant_emotion': 'happy'}]\n"
     ]
    },
    {
     "name": "stderr",
     "output_type": "stream",
     "text": [
      "Action: emotion: 100%|██████████| 4/4 [00:00<00:00,  5.95it/s]\n"
     ]
    },
    {
     "name": "stdout",
     "output_type": "stream",
     "text": [
      "C:/Users/miica/.conda/envs/VC_P6/P6/Rick_y_Morty/Rick_Prime.jpg\n",
      "Rick_Prime.jpg\n",
      "[{'age': 42, 'region': {'x': 0, 'y': 0, 'w': 586, 'h': 983}, 'gender': {'Woman': 9.104197472333908, 'Man': 90.89580178260803}, 'dominant_gender': 'Man', 'race': {'asian': 18.315710127353668, 'indian': 0.027069685165770352, 'black': 0.08014438790269196, 'white': 78.74420285224915, 'middle eastern': 0.8058682084083557, 'latino hispanic': 2.0270025357604027}, 'dominant_race': 'white', 'emotion': {'angry': 0.09532371768727899, 'disgust': 7.351529802690493e-05, 'fear': 0.7152920588850975, 'happy': 0.5930171813815832, 'sad': 53.939563035964966, 'surprise': 5.44207011898834e-05, 'neutral': 44.656673073768616}, 'dominant_emotion': 'sad'}]\n"
     ]
    },
    {
     "name": "stderr",
     "output_type": "stream",
     "text": [
      "Action: emotion: 100%|██████████| 4/4 [00:00<00:00,  6.08it/s]\n"
     ]
    },
    {
     "name": "stdout",
     "output_type": "stream",
     "text": [
      "C:/Users/miica/.conda/envs/VC_P6/P6/Rick_y_Morty/Rick_Sanchez.jpg\n",
      "Rick_Sanchez.jpg\n",
      "[{'age': 34, 'region': {'x': 0, 'y': 0, 'w': 848, 'h': 1080}, 'gender': {'Woman': 5.598332732915878, 'Man': 94.4016695022583}, 'dominant_gender': 'Man', 'race': {'asian': 2.6613643392920494, 'indian': 0.048039123066700995, 'black': 1.0604046285152435, 'white': 88.99322152137756, 'middle eastern': 5.4796867072582245, 'latino hispanic': 1.75727978348732}, 'dominant_race': 'white', 'emotion': {'angry': 2.610790943435859e-05, 'disgust': 2.1891091717129996e-08, 'fear': 0.0007844796527933795, 'happy': 99.91449117660522, 'sad': 0.08022502879612148, 'surprise': 6.663575469190164e-07, 'neutral': 0.00447239181085024}, 'dominant_emotion': 'happy'}]\n"
     ]
    },
    {
     "name": "stderr",
     "output_type": "stream",
     "text": [
      "Action: emotion: 100%|██████████| 4/4 [00:00<00:00,  5.89it/s]\n"
     ]
    },
    {
     "name": "stdout",
     "output_type": "stream",
     "text": [
      "C:/Users/miica/.conda/envs/VC_P6/P6/Rick_y_Morty/Space_Beth.jpg\n",
      "Space_Beth.jpg\n",
      "[{'age': 35, 'region': {'x': 0, 'y': 0, 'w': 479, 'h': 463}, 'gender': {'Woman': 6.99484720826149, 'Man': 93.00515055656433}, 'dominant_gender': 'Man', 'race': {'asian': 2.0706938579678535, 'indian': 0.36307391710579395, 'black': 1.9245408475399017, 'white': 81.00734353065491, 'middle eastern': 7.513853907585144, 'latino hispanic': 7.120493799448013}, 'dominant_race': 'white', 'emotion': {'angry': 9.410322263647686e-05, 'disgust': 9.480112528326146e-09, 'fear': 52.5299608707428, 'happy': 0.006106694490881637, 'sad': 47.46215641498566, 'surprise': 3.430300488105331e-09, 'neutral': 0.0016860776668181643}, 'dominant_emotion': 'fear'}]\n"
     ]
    },
    {
     "name": "stderr",
     "output_type": "stream",
     "text": [
      "Action: emotion: 100%|██████████| 4/4 [00:00<00:00,  6.03it/s]\n"
     ]
    },
    {
     "name": "stdout",
     "output_type": "stream",
     "text": [
      "C:/Users/miica/.conda/envs/VC_P6/P6/Rick_y_Morty/Squanchy.jpg\n",
      "Squanchy.jpg\n",
      "[{'age': 28, 'region': {'x': 0, 'y': 0, 'w': 824, 'h': 1080}, 'gender': {'Woman': 4.130908101797104, 'Man': 95.86909413337708}, 'dominant_gender': 'Man', 'race': {'asian': 5.626625195145607, 'indian': 3.3437851816415787, 'black': 28.297948837280273, 'white': 29.229307174682617, 'middle eastern': 9.510519355535507, 'latino hispanic': 23.991820216178894}, 'dominant_race': 'white', 'emotion': {'angry': 98.59463572502136, 'disgust': 3.5712413386755626e-11, 'fear': 0.0044156444346299395, 'happy': 0.00023829916244721971, 'sad': 0.8149690926074982, 'surprise': 8.280014185402251e-06, 'neutral': 0.5857367999851704}, 'dominant_emotion': 'angry'}]\n"
     ]
    },
    {
     "name": "stderr",
     "output_type": "stream",
     "text": [
      "Action: emotion: 100%|██████████| 4/4 [00:00<00:00,  5.80it/s]\n"
     ]
    },
    {
     "name": "stdout",
     "output_type": "stream",
     "text": [
      "C:/Users/miica/.conda/envs/VC_P6/P6/Rick_y_Morty/Summer.jpg\n",
      "Summer.jpg\n",
      "[{'age': 33, 'region': {'x': 0, 'y': 0, 'w': 654, 'h': 996}, 'gender': {'Woman': 14.003491401672363, 'Man': 85.99651455879211}, 'dominant_gender': 'Man', 'race': {'asian': 8.277715742588043, 'indian': 1.0022638365626335, 'black': 6.847260892391205, 'white': 69.52440738677979, 'middle eastern': 4.078638553619385, 'latino hispanic': 10.269713401794434}, 'dominant_race': 'white', 'emotion': {'angry': 5.837533138208397e-06, 'disgust': 8.399286123917959e-13, 'fear': 1.1876455955033784, 'happy': 2.5144404802879373e-05, 'sad': 98.80137457831209, 'surprise': 1.6182794840153432e-08, 'neutral': 0.010944473038294773}, 'dominant_emotion': 'sad'}]\n"
     ]
    },
    {
     "name": "stderr",
     "output_type": "stream",
     "text": [
      "Action: emotion: 100%|██████████| 4/4 [00:00<00:00,  5.80it/s]\n"
     ]
    },
    {
     "name": "stdout",
     "output_type": "stream",
     "text": [
      "C:/Users/miica/.conda/envs/VC_P6/P6/Rick_y_Morty/Tammy.jpg\n",
      "Tammy.jpg\n",
      "[{'age': 35, 'region': {'x': 0, 'y': 0, 'w': 609, 'h': 873}, 'gender': {'Woman': 4.829590022563934, 'Man': 95.17040848731995}, 'dominant_gender': 'Man', 'race': {'asian': 0.8321160450577736, 'indian': 0.4175539594143629, 'black': 0.329194706864655, 'white': 79.8534631729126, 'middle eastern': 10.314180701971054, 'latino hispanic': 8.253491669893265}, 'dominant_race': 'white', 'emotion': {'angry': 17.880353331565857, 'disgust': 0.027878046967089176, 'fear': 35.23974418640137, 'happy': 21.181519329547882, 'sad': 0.02882108965422958, 'surprise': 25.603997707366943, 'neutral': 0.037687510484829545}, 'dominant_emotion': 'fear'}]\n"
     ]
    },
    {
     "name": "stderr",
     "output_type": "stream",
     "text": [
      "Action: emotion: 100%|██████████| 4/4 [00:00<00:00,  5.93it/s]\n"
     ]
    },
    {
     "name": "stdout",
     "output_type": "stream",
     "text": [
      "C:/Users/miica/.conda/envs/VC_P6/P6/Rick_y_Morty/Unity.jpg\n",
      "Unity.jpg\n",
      "[{'age': 36, 'region': {'x': 0, 'y': 0, 'w': 1000, 'h': 1599}, 'gender': {'Woman': 2.397133596241474, 'Man': 97.60286211967468}, 'dominant_gender': 'Man', 'race': {'asian': 2.2848105058073997, 'indian': 0.0672232243232429, 'black': 0.0231969213928096, 'white': 94.81762051582336, 'middle eastern': 1.0993526317179203, 'latino hispanic': 1.7077980563044548}, 'dominant_race': 'white', 'emotion': {'angry': 3.664901933884051e-08, 'disgust': 2.3550582041563135e-16, 'fear': 43.128227777971496, 'happy': 28.39227189971637, 'sad': 2.792216224796159e-06, 'surprise': 28.479500322312134, 'neutral': 5.8343174050040975e-09}, 'dominant_emotion': 'fear'}]\n"
     ]
    }
   ],
   "source": [
    "import os\n",
    "import cv2\n",
    "from deepface import DeepFace\n",
    "import time\n",
    "folder = \"C:/Users/miica/.conda/envs/VC_P6/P6/Rick_y_Morty/\"\n",
    "\n",
    "print(folder)\n",
    "\n",
    "for file_name in os.listdir(folder):\n",
    "    # Asume imágenes en formato png o jpg\n",
    "    if file_name.endswith('.png') or file_name.endswith('.jpg') or file_name.endswith('.webp'):\n",
    "        # Procesa la imagen que asume hay cara, no fuerza la detección\n",
    "        obj = DeepFace.analyze(img_path = os.path.join(folder, file_name), enforce_detection=False, actions =['age', 'gender', 'race', 'emotion'])\n",
    "        print(folder + file_name)\n",
    "        img_to_compare = cv2.imread(folder + file_name)\n",
    "        cv2.imshow('Imagen a comparar', img_to_compare)\n",
    "        print(file_name)\n",
    "        print(obj)\n",
    "        #time.sleep(2)\n",
    "        cv2.waitKey(0)  # Espera a que se presione cualquier tecla antes de pasar a la siguiente imagen\n",
    "        cv2.destroyAllWindows() \n",
    "        #print(obj[\"region\"])\n",
    "        #print(obj[\"age\"])      \n",
    "        #print(obj[\"gender\"])      \n",
    "        #print(obj[\"race\"])       \n",
    "        #print(obj[\"dominant_race\"]) \n",
    "        #print(obj[\"emotion\"])\n",
    "        #print(obj[\"dominant_emotion\"])\n",
    "       \n",
    "        \n"
   ]
  },
  {
   "attachments": {},
   "cell_type": "markdown",
   "id": "643c68d5",
   "metadata": {},
   "source": [
    "# Process from webcam"
   ]
  },
  {
   "cell_type": "code",
   "execution_count": null,
   "id": "6b1843aa",
   "metadata": {},
   "outputs": [],
   "source": [
    "import cv2\n",
    "from deepface import DeepFace\n",
    "\n",
    "vid = cv2.VideoCapture(0)\n",
    "\n",
    "# font \n",
    "font = cv2.FONT_HERSHEY_SIMPLEX\n",
    "fontScale = 1\n",
    "color = (255, 0, 0) \n",
    "thickness = 2 \n",
    "pos = (50, 50) \n",
    "  \n",
    "while(True):      \n",
    "    # fotograma a fotograma\n",
    "    ret, frame = vid.read()\n",
    "  \n",
    "    if ret:  \n",
    "        obj = DeepFace.analyze(img_path = frame, enforce_detection=False, actions =['gender', 'emotion'])\n",
    "        print(obj)\n",
    "\n",
    "        # Primera cara\n",
    "        image = cv2.putText(frame, str(obj[0]['dominant_gender']+' '+obj[0]['dominant_emotion']), pos, font,  \n",
    "                        fontScale, color, thickness, cv2.LINE_AA) \n",
    "        # Muestra fotograma\n",
    "        cv2.imshow('Vid', frame)\n",
    "    \n",
    "    # Detenemos pulsado ESC\n",
    "    if cv2.waitKey(20) == 27:\n",
    "        break\n",
    "  \n",
    "# Libera el objeto de captura\n",
    "vid.release()\n",
    "# Destruye ventanas\n",
    "cv2.destroyAllWindows()"
   ]
  },
  {
   "cell_type": "code",
   "execution_count": 1,
   "metadata": {},
   "outputs": [
    {
     "name": "stdout",
     "output_type": "stream",
     "text": [
      "WARNING:tensorflow:From c:\\Users\\miica\\.conda\\envs\\VC_P6\\Lib\\site-packages\\keras\\src\\losses.py:2976: The name tf.losses.sparse_softmax_cross_entropy is deprecated. Please use tf.compat.v1.losses.sparse_softmax_cross_entropy instead.\n",
      "\n",
      "Beth_Smith.jpg\n",
      "1/1 [==============================] - 0s 122ms/step\n",
      "1/1 [==============================] - 0s 86ms/step\n",
      "1/1 [==============================] - 0s 22ms/step\n",
      "1/1 [==============================] - 0s 19ms/step\n",
      "1/1 [==============================] - 0s 20ms/step\n",
      "1/1 [==============================] - 0s 18ms/step\n",
      "1/1 [==============================] - 0s 18ms/step\n",
      "1/1 [==============================] - 0s 22ms/step\n",
      "1/1 [==============================] - 0s 17ms/step\n",
      "1/1 [==============================] - 0s 19ms/step\n",
      "1/1 [==============================] - 0s 17ms/step\n",
      "1/1 [==============================] - 0s 20ms/step\n",
      "2/2 [==============================] - 0s 4ms/step\n",
      "1/1 [==============================] - 0s 109ms/step\n",
      "1/1 [==============================] - 0s 21ms/step\n",
      "1/1 [==============================] - 0s 22ms/step\n",
      "1/1 [==============================] - 0s 19ms/step\n",
      "1/1 [==============================] - 0s 17ms/step\n",
      "1/1 [==============================] - 0s 18ms/step\n",
      "1/1 [==============================] - 0s 17ms/step\n",
      "1/1 [==============================] - 0s 17ms/step\n",
      "1/1 [==============================] - 0s 18ms/step\n",
      "1/1 [==============================] - 0s 17ms/step\n",
      "1/1 [==============================] - 0s 20ms/step\n",
      "1/1 [==============================] - 0s 18ms/step\n",
      "1/1 [==============================] - 0s 21ms/step\n",
      "Boromir.jpg\n",
      "1/1 [==============================] - 0s 29ms/step\n",
      "1/1 [==============================] - 0s 25ms/step\n",
      "1/1 [==============================] - 0s 19ms/step\n",
      "1/1 [==============================] - 0s 16ms/step\n",
      "1/1 [==============================] - 0s 15ms/step\n",
      "1/1 [==============================] - 0s 16ms/step\n",
      "1/1 [==============================] - 0s 16ms/step\n",
      "1/1 [==============================] - 0s 15ms/step\n",
      "1/1 [==============================] - 0s 14ms/step\n",
      "1/1 [==============================] - 0s 16ms/step\n",
      "1/1 [==============================] - 0s 16ms/step\n",
      "1/1 [==============================] - 0s 15ms/step\n",
      "2/2 [==============================] - 0s 2ms/step\n",
      "1/1 [==============================] - 0s 22ms/step\n",
      "1/1 [==============================] - 0s 15ms/step\n",
      "1/1 [==============================] - 0s 16ms/step\n",
      "1/1 [==============================] - 0s 16ms/step\n",
      "1/1 [==============================] - 0s 17ms/step\n",
      "1/1 [==============================] - 0s 17ms/step\n",
      "1/1 [==============================] - 0s 20ms/step\n",
      "1/1 [==============================] - 0s 16ms/step\n",
      "4/4 [==============================] - 0s 3ms/step\n",
      "1/1 [==============================] - 0s 19ms/step\n",
      "['Beth_Smith.jpg', {'verified': False, 'distance': 0.4120321835021059, 'threshold': 0.4, 'model': 'VGG-Face', 'detector_backend': 'mtcnn', 'similarity_metric': 'cosine', 'facial_areas': {'img1': {'x': 419, 'y': 85, 'w': 328, 'h': 446}, 'img2': {'x': 166, 'y': 113, 'w': 247, 'h': 358}}, 'time': 3.95}, 0.4120321835021059]\n",
      "C:/Users/miica/.conda/envs/VC_P6/P6/dos_fotos/Beth_Smith.jpg\n"
     ]
    }
   ],
   "source": [
    "# Usando DeepFace.verify()\n",
    "import cv2\n",
    "from deepface import DeepFace\n",
    "import os\n",
    "import time\n",
    "\n",
    "vid = cv2.VideoCapture(0)\n",
    "\n",
    "def getBestResult(r_mtcnn, r_retinaface):\n",
    "    tmp_results = []\n",
    "    # Calcula la distancia mínima entre los dos backends (los dos con mejores resultados)\n",
    "    for i, r in enumerate(r_mtcnn): \n",
    "        if(r[2][\"facial_areas\"][\"img2\"][\"x\"] != 0 and r_retinaface[i][2][\"facial_areas\"][\"img2\"][\"x\"] != 0):\n",
    "            min_dist = min(r[2][\"distance\"], r_retinaface[i][2][\"distance\"])\n",
    "            # Comprueba que distancia es la menor y guarda la información\n",
    "            if(min_dist == r[2][\"distance\"]):\n",
    "                tmp_results.append([r[0], r[2], min_dist])\n",
    "            elif(min_dist == r_retinaface[i][2][\"distance\"]):\n",
    "                tmp_results.append([r[0], r_retinaface[i][2], min_dist])\n",
    "\n",
    "        elif(r[2][\"facial_areas\"][\"img2\"][\"x\"] != 0):\n",
    "            tmp_results.append([r[0], r[2], r[2][\"distance\"]])\n",
    "        else:\n",
    "            tmp_results.append([r_retinaface[i][0], r_retinaface[i][2], r_retinaface[i][2][\"distance\"]])\n",
    "        # print(\"mtcnn ------------\")\n",
    "        # print(r)\n",
    "        # print(\"retinaface ------------\")\n",
    "        # print(results_retinaface[i])\n",
    "\n",
    "    # Devuelve la coincidencia cuya distancia sea mínima\n",
    "    return min(tmp_results, key=lambda x: x[2])\n",
    "\n",
    "\n",
    "# font \n",
    "font = cv2.FONT_HERSHEY_SIMPLEX\n",
    "fontScale = 1\n",
    "color = (255, 0, 0) \n",
    "thickness = 2 \n",
    "pos = (50, 50) \n",
    "folder_Rick_y_Morty = 'C:/Users/miica/.conda/envs/VC_P6/P6/Rick_y_Morty/'\n",
    "folder_LOTR = 'C:/Users/miica/.conda/envs/VC_P6/P6/LOTR/'\n",
    "folder_The_Office = 'C:/Users/miica/.conda/envs/VC_P6/P6/The_office/'\n",
    "\n",
    "results_mtcnn = []\n",
    "results_retinaface = []\n",
    "comparacion = False\n",
    "repite_comparacion = False\n",
    "forzar_deteccion = False\n",
    "borrar_img = False\n",
    "while(True):      \n",
    "    # fotograma a fotograma\n",
    "    ret, frame = vid.read()\n",
    "\n",
    "    if ret:  \n",
    "\n",
    "        # Muestra fotograma\n",
    "        cv2.imshow('Vid', frame)\n",
    "        \n",
    "        key = cv2.waitKey(20)\n",
    "        if(key == 49):\n",
    "            folder = folder_Rick_y_Morty\n",
    "            forzar_deteccion = False\n",
    "            comparacion = True\n",
    "        # Tecla 2 --> Modo Señor de los Anillos\n",
    "        elif(key == 50):\n",
    "            folder = folder_LOTR\n",
    "            forzar_deteccion = False\n",
    "            comparacion = True\n",
    "        # Tecla 3 --> Modo The Office\n",
    "        elif(key == 51):\n",
    "            folder = folder_The_Office\n",
    "            forzar_deteccion = False\n",
    "            comparacion = True\n",
    "\n",
    "        # Borramos la ventana previa si la hubiese\n",
    "        if (key == 49 or key == 50 or key == 51) and borrar_img:\n",
    "            if len(img_frame_title) != 0:\n",
    "                cv2.destroyWindow(img_frame_title)\n",
    "                borrar_img = False\n",
    "        # Guarda el archivo temporalmente\n",
    "        cv2.imwrite('temp_frame.jpg', frame)\n",
    "        \n",
    "        if(comparacion):\n",
    "            for file_name in os.listdir(folder):\n",
    "                img_to_compare_name = os.path.join(folder, file_name)\n",
    "                print(file_name)\n",
    "                # Asume imágenes en formato png o jpg\n",
    "                if file_name.endswith('.png') or file_name.endswith('.jpg') or file_name.endswith('.webp'):\n",
    "                    result_mtcnn = DeepFace.verify(img1_path = \"temp_frame.jpg\", img2_path = img_to_compare_name, detector_backend = \"mtcnn\", enforce_detection=forzar_deteccion, distance_metric=\"cosine\")\n",
    "                    result_retinaface = DeepFace.verify(img1_path = \"temp_frame.jpg\", img2_path = img_to_compare_name, detector_backend = \"retinaface\", enforce_detection=forzar_deteccion, distance_metric=\"cosine\")\n",
    "                                        \n",
    "                    #print(result)\n",
    "                    # Guarda los resultados con el nombre de la imagen\n",
    "                    results_mtcnn.append([file_name, \" ---- \", result_mtcnn])\n",
    "                    results_retinaface.append([file_name, \" ---- \", result_retinaface])\n",
    "                    #img_to_compare = cv2.imread(img_to_compare_name)                    \n",
    "                    \n",
    "            best_result = getBestResult(results_mtcnn, results_retinaface)\n",
    "            print(best_result)\n",
    "            x, y, w, h = best_result[1][\"facial_areas\"][\"img2\"][\"x\"], best_result[1][\"facial_areas\"][\"img2\"][\"y\"], best_result[1][\"facial_areas\"][\"img2\"][\"w\"], best_result[1][\"facial_areas\"][\"img2\"][\"h\"]\n",
    "            \n",
    "            \n",
    "            img_res = cv2.imread(folder + best_result[0])\n",
    "            # Dibujar un rectángulo en el área de coincidencia\n",
    "            cv2.rectangle(img_res, (x, y), (x + w, y + h), (0, 255, 0), 2)  \n",
    "\n",
    "            if(folder == folder_Rick_y_Morty):\n",
    "                print(folder + best_result[0])\n",
    "                img_frame_title = \"¿Que personaje de Rick y Morty eres?\"\n",
    "                cv2.imshow(img_frame_title, img_res)\n",
    "                borrar_img = True\n",
    "                \n",
    "            else:\n",
    "                print(folder + best_result[0])\n",
    "                img_frame_title = \"¿Que personaje del Señor de los Anillos eres?\"\n",
    "                cv2.imshow(img_frame_title, img_res)\n",
    "                borrar_img = True\n",
    "                \n",
    "            os.remove('temp_frame.jpg')\n",
    "        comparacion = False\n",
    "\n",
    "    # Detenemos pulsado ESC\n",
    "    if cv2.waitKey(20) == 27:\n",
    "        break\n",
    "\n",
    "\n",
    "# Libera el objeto de captura\n",
    "vid.release()\n",
    "# Destruye ventanas\n",
    "cv2.destroyAllWindows()"
   ]
  },
  {
   "cell_type": "code",
   "execution_count": 2,
   "metadata": {},
   "outputs": [
    {
     "name": "stdout",
     "output_type": "stream",
     "text": [
      "C:/Users/miica/.conda/envs/VC_P6/P6/dos_fotos/\n"
     ]
    },
    {
     "name": "stderr",
     "output_type": "stream",
     "text": [
      "Finding representations:   0%|          | 0/2 [00:00<?, ?it/s]"
     ]
    },
    {
     "name": "stdout",
     "output_type": "stream",
     "text": [
      "1/1 [==============================] - 0s 17ms/step\n",
      "1/1 [==============================] - 0s 16ms/step\n",
      "1/1 [==============================] - 0s 15ms/step\n",
      "1/1 [==============================] - 0s 14ms/step\n",
      "1/1 [==============================] - 0s 14ms/step\n",
      "1/1 [==============================] - 0s 14ms/step\n",
      "1/1 [==============================] - 0s 14ms/step\n",
      "1/1 [==============================] - 0s 14ms/step\n",
      "1/1 [==============================] - 0s 14ms/step\n",
      "1/1 [==============================] - 0s 14ms/step\n",
      "1/1 [==============================] - 0s 15ms/step\n",
      "1/1 [==============================] - 0s 14ms/step\n"
     ]
    },
    {
     "name": "stderr",
     "output_type": "stream",
     "text": [
      "Finding representations:  50%|█████     | 1/2 [00:00<00:00,  1.33it/s]"
     ]
    },
    {
     "name": "stdout",
     "output_type": "stream",
     "text": [
      "1/1 [==============================] - 0s 15ms/step\n",
      "1/1 [==============================] - 0s 16ms/step\n",
      "1/1 [==============================] - 0s 14ms/step\n",
      "1/1 [==============================] - 0s 14ms/step\n",
      "1/1 [==============================] - 0s 16ms/step\n",
      "1/1 [==============================] - 0s 14ms/step\n",
      "1/1 [==============================] - 0s 14ms/step\n",
      "4/4 [==============================] - 0s 3ms/step\n",
      "1/1 [==============================] - 0s 17ms/step\n"
     ]
    },
    {
     "name": "stderr",
     "output_type": "stream",
     "text": [
      "Finding representations: 100%|██████████| 2/2 [00:01<00:00,  1.44it/s]"
     ]
    },
    {
     "name": "stdout",
     "output_type": "stream",
     "text": [
      "Representations stored in C:/Users/miica/.conda/envs/VC_P6/P6/dos_fotos//representations_vgg_face.pkl file.Please delete this file when you add new identities in your database.\n",
      "1/1 [==============================] - 0s 31ms/step\n",
      "1/1 [==============================] - 0s 21ms/step\n"
     ]
    },
    {
     "name": "stderr",
     "output_type": "stream",
     "text": [
      "\n"
     ]
    },
    {
     "name": "stdout",
     "output_type": "stream",
     "text": [
      "1/1 [==============================] - 0s 17ms/step\n",
      "1/1 [==============================] - 0s 15ms/step\n",
      "1/1 [==============================] - 0s 15ms/step\n",
      "1/1 [==============================] - 0s 14ms/step\n",
      "1/1 [==============================] - 0s 15ms/step\n",
      "1/1 [==============================] - 0s 14ms/step\n",
      "1/1 [==============================] - 0s 17ms/step\n",
      "1/1 [==============================] - 0s 14ms/step\n",
      "1/1 [==============================] - 0s 15ms/step\n",
      "1/1 [==============================] - 0s 14ms/step\n",
      "2/2 [==============================] - 0s 4ms/step\n",
      "1/1 [==============================] - 0s 16ms/step\n",
      "find function lasts  2.35317325592041  seconds\n",
      "MTCNN ---------------- \n",
      "                                            identity  source_x  source_y  \\\n",
      "0  C:/Users/miica/.conda/envs/VC_P6/P6/dos_fotos/...       435        97   \n",
      "\n",
      "   source_w  source_h  VGG-Face_cosine  \n",
      "0       307       456         0.388611  \n"
     ]
    },
    {
     "name": "stderr",
     "output_type": "stream",
     "text": [
      "Finding representations: 100%|██████████| 2/2 [00:02<00:00,  1.04s/it]\n"
     ]
    },
    {
     "name": "stdout",
     "output_type": "stream",
     "text": [
      "Representations stored in C:/Users/miica/.conda/envs/VC_P6/P6/dos_fotos//representations_vgg_face.pkl file.Please delete this file when you add new identities in your database.\n",
      "find function lasts  3.122105360031128  seconds\n",
      "RETINAFACE ---------------- \n",
      "Empty DataFrame\n",
      "Columns: [identity, source_x, source_y, source_w, source_h, VGG-Face_cosine]\n",
      "Index: []\n"
     ]
    },
    {
     "ename": "KeyError",
     "evalue": "0",
     "output_type": "error",
     "traceback": [
      "\u001b[1;31m---------------------------------------------------------------------------\u001b[0m",
      "\u001b[1;31mValueError\u001b[0m                                Traceback (most recent call last)",
      "File \u001b[1;32mc:\\Users\\miica\\.conda\\envs\\VC_P6\\Lib\\site-packages\\pandas\\core\\indexes\\range.py:414\u001b[0m, in \u001b[0;36mRangeIndex.get_loc\u001b[1;34m(self, key)\u001b[0m\n\u001b[0;32m    413\u001b[0m \u001b[39mtry\u001b[39;00m:\n\u001b[1;32m--> 414\u001b[0m     \u001b[39mreturn\u001b[39;00m \u001b[39mself\u001b[39;49m\u001b[39m.\u001b[39;49m_range\u001b[39m.\u001b[39;49mindex(new_key)\n\u001b[0;32m    415\u001b[0m \u001b[39mexcept\u001b[39;00m \u001b[39mValueError\u001b[39;00m \u001b[39mas\u001b[39;00m err:\n",
      "\u001b[1;31mValueError\u001b[0m: 0 is not in range",
      "\nThe above exception was the direct cause of the following exception:\n",
      "\u001b[1;31mKeyError\u001b[0m                                  Traceback (most recent call last)",
      "\u001b[1;32mc:\\Users\\miica\\.conda\\envs\\VC_P6\\P6\\VC_P6_deepface_analyze.ipynb Cell 6\u001b[0m line \u001b[0;36m7\n\u001b[0;32m     <a href='vscode-notebook-cell:/c%3A/Users/miica/.conda/envs/VC_P6/P6/VC_P6_deepface_analyze.ipynb#W5sZmlsZQ%3D%3D?line=68'>69</a>\u001b[0m \u001b[39mprint\u001b[39m(result_retinaface[\u001b[39m0\u001b[39m])\n\u001b[0;32m     <a href='vscode-notebook-cell:/c%3A/Users/miica/.conda/envs/VC_P6/P6/VC_P6_deepface_analyze.ipynb#W5sZmlsZQ%3D%3D?line=69'>70</a>\u001b[0m os\u001b[39m.\u001b[39mremove(folder \u001b[39m+\u001b[39m \u001b[39m\"\u001b[39m\u001b[39mrepresentations_vgg_face.pkl\u001b[39m\u001b[39m\"\u001b[39m)\n\u001b[1;32m---> <a href='vscode-notebook-cell:/c%3A/Users/miica/.conda/envs/VC_P6/P6/VC_P6_deepface_analyze.ipynb#W5sZmlsZQ%3D%3D?line=71'>72</a>\u001b[0m best_result \u001b[39m=\u001b[39m getBestResult(result_mtcnn, result_retinaface)\n\u001b[0;32m     <a href='vscode-notebook-cell:/c%3A/Users/miica/.conda/envs/VC_P6/P6/VC_P6_deepface_analyze.ipynb#W5sZmlsZQ%3D%3D?line=72'>73</a>\u001b[0m \u001b[39mprint\u001b[39m(\u001b[39m\"\u001b[39m\u001b[39mBEST RESULT ------\u001b[39m\u001b[39m\"\u001b[39m)\n\u001b[0;32m     <a href='vscode-notebook-cell:/c%3A/Users/miica/.conda/envs/VC_P6/P6/VC_P6_deepface_analyze.ipynb#W5sZmlsZQ%3D%3D?line=73'>74</a>\u001b[0m \u001b[39mprint\u001b[39m(best_result)\n",
      "\u001b[1;32mc:\\Users\\miica\\.conda\\envs\\VC_P6\\P6\\VC_P6_deepface_analyze.ipynb Cell 6\u001b[0m line \u001b[0;36m1\n\u001b[0;32m     <a href='vscode-notebook-cell:/c%3A/Users/miica/.conda/envs/VC_P6/P6/VC_P6_deepface_analyze.ipynb#W5sZmlsZQ%3D%3D?line=9'>10</a>\u001b[0m \u001b[39mdef\u001b[39;00m \u001b[39mgetBestResult\u001b[39m(r_mtcnn, r_retinaface):\n\u001b[1;32m---> <a href='vscode-notebook-cell:/c%3A/Users/miica/.conda/envs/VC_P6/P6/VC_P6_deepface_analyze.ipynb#W5sZmlsZQ%3D%3D?line=10'>11</a>\u001b[0m     \u001b[39mif\u001b[39;00m(r_mtcnn[\u001b[39m0\u001b[39m][\u001b[39m'\u001b[39m\u001b[39mVGG-Face_cosine\u001b[39m\u001b[39m'\u001b[39m][\u001b[39m0\u001b[39m] \u001b[39m<\u001b[39m r_retinaface[\u001b[39m0\u001b[39;49m][\u001b[39m'\u001b[39;49m\u001b[39mVGG-Face_cosine\u001b[39;49m\u001b[39m'\u001b[39;49m][\u001b[39m0\u001b[39;49m]):\n\u001b[0;32m     <a href='vscode-notebook-cell:/c%3A/Users/miica/.conda/envs/VC_P6/P6/VC_P6_deepface_analyze.ipynb#W5sZmlsZQ%3D%3D?line=11'>12</a>\u001b[0m         best_result \u001b[39m=\u001b[39m r_mtcnn[\u001b[39m0\u001b[39m]\n\u001b[0;32m     <a href='vscode-notebook-cell:/c%3A/Users/miica/.conda/envs/VC_P6/P6/VC_P6_deepface_analyze.ipynb#W5sZmlsZQ%3D%3D?line=12'>13</a>\u001b[0m     \u001b[39melse\u001b[39;00m:\n",
      "File \u001b[1;32mc:\\Users\\miica\\.conda\\envs\\VC_P6\\Lib\\site-packages\\pandas\\core\\series.py:1040\u001b[0m, in \u001b[0;36mSeries.__getitem__\u001b[1;34m(self, key)\u001b[0m\n\u001b[0;32m   1037\u001b[0m     \u001b[39mreturn\u001b[39;00m \u001b[39mself\u001b[39m\u001b[39m.\u001b[39m_values[key]\n\u001b[0;32m   1039\u001b[0m \u001b[39melif\u001b[39;00m key_is_scalar:\n\u001b[1;32m-> 1040\u001b[0m     \u001b[39mreturn\u001b[39;00m \u001b[39mself\u001b[39;49m\u001b[39m.\u001b[39;49m_get_value(key)\n\u001b[0;32m   1042\u001b[0m \u001b[39m# Convert generator to list before going through hashable part\u001b[39;00m\n\u001b[0;32m   1043\u001b[0m \u001b[39m# (We will iterate through the generator there to check for slices)\u001b[39;00m\n\u001b[0;32m   1044\u001b[0m \u001b[39mif\u001b[39;00m is_iterator(key):\n",
      "File \u001b[1;32mc:\\Users\\miica\\.conda\\envs\\VC_P6\\Lib\\site-packages\\pandas\\core\\series.py:1156\u001b[0m, in \u001b[0;36mSeries._get_value\u001b[1;34m(self, label, takeable)\u001b[0m\n\u001b[0;32m   1153\u001b[0m     \u001b[39mreturn\u001b[39;00m \u001b[39mself\u001b[39m\u001b[39m.\u001b[39m_values[label]\n\u001b[0;32m   1155\u001b[0m \u001b[39m# Similar to Index.get_value, but we do not fall back to positional\u001b[39;00m\n\u001b[1;32m-> 1156\u001b[0m loc \u001b[39m=\u001b[39m \u001b[39mself\u001b[39;49m\u001b[39m.\u001b[39;49mindex\u001b[39m.\u001b[39;49mget_loc(label)\n\u001b[0;32m   1158\u001b[0m \u001b[39mif\u001b[39;00m is_integer(loc):\n\u001b[0;32m   1159\u001b[0m     \u001b[39mreturn\u001b[39;00m \u001b[39mself\u001b[39m\u001b[39m.\u001b[39m_values[loc]\n",
      "File \u001b[1;32mc:\\Users\\miica\\.conda\\envs\\VC_P6\\Lib\\site-packages\\pandas\\core\\indexes\\range.py:416\u001b[0m, in \u001b[0;36mRangeIndex.get_loc\u001b[1;34m(self, key)\u001b[0m\n\u001b[0;32m    414\u001b[0m         \u001b[39mreturn\u001b[39;00m \u001b[39mself\u001b[39m\u001b[39m.\u001b[39m_range\u001b[39m.\u001b[39mindex(new_key)\n\u001b[0;32m    415\u001b[0m     \u001b[39mexcept\u001b[39;00m \u001b[39mValueError\u001b[39;00m \u001b[39mas\u001b[39;00m err:\n\u001b[1;32m--> 416\u001b[0m         \u001b[39mraise\u001b[39;00m \u001b[39mKeyError\u001b[39;00m(key) \u001b[39mfrom\u001b[39;00m \u001b[39merr\u001b[39;00m\n\u001b[0;32m    417\u001b[0m \u001b[39mif\u001b[39;00m \u001b[39misinstance\u001b[39m(key, Hashable):\n\u001b[0;32m    418\u001b[0m     \u001b[39mraise\u001b[39;00m \u001b[39mKeyError\u001b[39;00m(key)\n",
      "\u001b[1;31mKeyError\u001b[0m: 0"
     ]
    }
   ],
   "source": [
    "# Usando DeepFace.find() \n",
    "import cv2\n",
    "from deepface import DeepFace\n",
    "import os\n",
    "import time\n",
    "import pandas as pd\n",
    "\n",
    "vid = cv2.VideoCapture(0)\n",
    "\n",
    "def getBestResult(r_mtcnn, r_retinaface):\n",
    "    if(r_mtcnn[0]['VGG-Face_cosine'][0] < r_retinaface[0]['VGG-Face_cosine'][0]):\n",
    "        best_result = r_mtcnn[0]\n",
    "    else:\n",
    "        best_result = r_retinaface[0]\n",
    "    # Devuelve la coincidencia cuya distancia sea mínima\n",
    "    return best_result\n",
    "\n",
    "\n",
    "folder_Rick_y_Morty = 'C:/Users/miica/.conda/envs/VC_P6/P6/Rick_y_Morty/'\n",
    "folder_LOTR = 'C:/Users/miica/.conda/envs/VC_P6/P6/LOTR/'\n",
    "folder_The_Office = 'C:/Users/miica/.conda/envs/VC_P6/P6/The_office/'\n",
    "\n",
    "results_mtcnn = []\n",
    "results_retinaface = []\n",
    "comparacion = False\n",
    "forzar_deteccion = False\n",
    "borrar_img = False\n",
    "folder = \"\"\n",
    "\n",
    "while(True):      \n",
    "    # fotograma a fotograma\n",
    "    ret, frame = vid.read()\n",
    "\n",
    "    if ret:  \n",
    "\n",
    "        # Muestra fotograma\n",
    "        cv2.imshow('Vid', frame)\n",
    "            \n",
    "        key = cv2.waitKey(20)\n",
    "        # Tecla 1 --> Modo Rick y Morty\n",
    "        if(key == 49):\n",
    "            folder = folder_Rick_y_Morty\n",
    "            forzar_deteccion = False\n",
    "            comparacion = True\n",
    "        # Tecla 2 --> Modo Señor de los Anillos\n",
    "        elif(key == 50):\n",
    "            folder = folder_LOTR\n",
    "            forzar_deteccion = False\n",
    "            comparacion = True\n",
    "\n",
    "        elif(key == 51):\n",
    "            folder = folder_The_Office\n",
    "            forzar_deteccion = False\n",
    "            comparacion = True\n",
    "\n",
    "        # Borramos la ventana previa si la hubiese\n",
    "        if (key == 49 or key == 50 or key == 51) and borrar_img:\n",
    "            if len(img_frame_title) != 0:\n",
    "                cv2.destroyWindow(img_frame_title)\n",
    "                borrar_img = False\n",
    "\n",
    "        # Guarda el archivo temporalmente\n",
    "        cv2.imwrite('temp_frame.jpg', frame)\n",
    "        \n",
    "        if(comparacion):    \n",
    "            print(folder)          \n",
    "            result_mtcnn = DeepFace.find(img_path = \"temp_frame.jpg\", db_path = folder, detector_backend=\"mtcnn\", enforce_detection=forzar_deteccion, distance_metric=\"cosine\")\n",
    "            print(\"MTCNN ---------------- \")\n",
    "            print(result_mtcnn[0])\n",
    "            os.remove(folder + \"representations_vgg_face.pkl\")\n",
    "            \n",
    "            result_retinaface = DeepFace.find(img_path = \"temp_frame.jpg\", db_path = folder, detector_backend=\"retinaface\", enforce_detection=forzar_deteccion, distance_metric=\"cosine\")            \n",
    "            print(\"RETINAFACE ---------------- \")\n",
    "            print(result_retinaface[0])\n",
    "            os.remove(folder + \"representations_vgg_face.pkl\")\n",
    "                    \n",
    "            best_result = getBestResult(result_mtcnn, result_retinaface)\n",
    "            print(\"BEST RESULT ------\")\n",
    "            print(best_result)\n",
    "            \n",
    "            \n",
    "            if os.path.exists(best_result[\"identity\"][0]):\n",
    "                print(best_result[\"identity\"][0])\n",
    "                img_res = cv2.imread(best_result[\"identity\"][0])\n",
    "\n",
    "            if(folder == folder_Rick_y_Morty):\n",
    "                #print(folder + best_result[0])\n",
    "                img_frame_title = \"¿Que personaje de Rick y Morty eres?\"\n",
    "                cv2.imshow(img_frame_title, img_res)\n",
    "                borrar_img = True\n",
    "            else:\n",
    "                #print(folder + best_result[0])\n",
    "                img_frame_title = \"¿Que personaje del Señor de los Anillos eres?\"\n",
    "                cv2.imshow(img_frame_title, img_res)\n",
    "                borrar_img = True\n",
    "\n",
    "            os.remove('temp_frame.jpg')\n",
    "        comparacion = False\n",
    "\n",
    "    # Detenemos pulsado ESC\n",
    "    if cv2.waitKey(20) == 27:\n",
    "        break\n",
    "\n",
    "\n",
    "# Libera el objeto de captura\n",
    "vid.release()\n",
    "# Destruye ventanas\n",
    "cv2.destroyAllWindows()"
   ]
  },
  {
   "cell_type": "code",
   "execution_count": 24,
   "metadata": {},
   "outputs": [
    {
     "name": "stdout",
     "output_type": "stream",
     "text": [
      "C:/Users/miica/.conda/envs/VC_P6/P6/Rick_y_Morty\n",
      "WARNING: Representations for images in C:/Users/miica/.conda/envs/VC_P6/P6/Rick_y_Morty folder were previously stored in representations_vgg_face.pkl. If you added new instances after the creation, then please delete this file and call find function again. It will create it again.\n",
      "There are  17  representations found in  representations_vgg_face.pkl\n",
      "find function lasts  0.26900744438171387  seconds\n",
      "C:/Users/miica/.conda/envs/VC_P6/P6/Rick_y_Morty/Unity.jpg\n"
     ]
    }
   ],
   "source": [
    "import cv2\n",
    "from deepface import DeepFace\n",
    "import os\n",
    "import time\n",
    "\n",
    "vid = cv2.VideoCapture(0)\n",
    "\n",
    "# font \n",
    "font = cv2.FONT_HERSHEY_SIMPLEX\n",
    "fontScale = 1\n",
    "color = (255, 0, 0) \n",
    "thickness = 2 \n",
    "pos = (50, 50) \n",
    "folder = \"C:/Users/miica/.conda/envs/VC_P6/P6/Rick_y_Morty\"\n",
    "\n",
    "print(folder)\n",
    "\n",
    "results = []\n",
    "ciclo = True\n",
    "while(True):      \n",
    "    # fotograma a fotograma\n",
    "    ret, frame = vid.read()\n",
    "  \n",
    "    if ret:  \n",
    "        # Guarda el archivo temporalmente\n",
    "        cv2.imwrite('temp_frame.jpg', frame)    \n",
    "        if(ciclo): \n",
    "            dfs = DeepFace.find(img_path = \"temp_frame.jpg\", db_path = folder, enforce_detection=False)\n",
    "            print(str(dfs[0][\"identity\"][0]))\n",
    "            \n",
    "        ciclo = False\n",
    "        \n",
    "        cv2.imshow('Vid', frame)\n",
    "        cv2.waitKey(0)\n",
    "        #cv2.destroyWindow('Imagen a comparar')\n",
    "        os.remove('temp_frame.jpg')\n",
    "        \n",
    "    # Detenemos pulsado ESC\n",
    "    if cv2.waitKey(20) == 27:\n",
    "        break\n",
    "\n",
    "# Libera el objeto de captura\n",
    "vid.release()\n",
    "# Destruye ventanas\n",
    "cv2.destroyAllWindows()"
   ]
  }
 ],
 "metadata": {
  "kernelspec": {
   "display_name": "Python 3.9.0 ('deepface')",
   "language": "python",
   "name": "python3"
  },
  "language_info": {
   "codemirror_mode": {
    "name": "ipython",
    "version": 3
   },
   "file_extension": ".py",
   "mimetype": "text/x-python",
   "name": "python",
   "nbconvert_exporter": "python",
   "pygments_lexer": "ipython3",
   "version": "3.11.5"
  },
  "vscode": {
   "interpreter": {
    "hash": "12028effb1af0cd2244438ff9b17d06bb1d7695ec7a554a144e43ec4b8b79006"
   }
  }
 },
 "nbformat": 4,
 "nbformat_minor": 5
}
